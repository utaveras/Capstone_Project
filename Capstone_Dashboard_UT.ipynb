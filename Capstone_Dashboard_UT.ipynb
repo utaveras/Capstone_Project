{
 "cells": [
  {
   "cell_type": "code",
   "execution_count": 1,
   "metadata": {
    "ExecuteTime": {
     "end_time": "2020-03-27T23:17:16.702278Z",
     "start_time": "2020-03-27T23:17:15.211497Z"
    }
   },
   "outputs": [],
   "source": [
    "import plotly.graph_objects as go\n",
    "from plotly.offline import init_notebook_mode\n",
    "from ipywidgets import widgets\n",
    "from plotly.subplots import make_subplots\n",
    "import numpy as np\n",
    "import pandas as pd"
   ]
  },
  {
   "cell_type": "code",
   "execution_count": null,
   "metadata": {},
   "outputs": [],
   "source": []
  },
  {
   "cell_type": "code",
   "execution_count": 2,
   "metadata": {
    "ExecuteTime": {
     "end_time": "2020-03-27T23:17:16.747675Z",
     "start_time": "2020-03-27T23:17:16.705396Z"
    }
   },
   "outputs": [
    {
     "data": {
      "text/html": [
       "        <script type=\"text/javascript\">\n",
       "        window.PlotlyConfig = {MathJaxConfig: 'local'};\n",
       "        if (window.MathJax) {MathJax.Hub.Config({SVG: {font: \"STIX-Web\"}});}\n",
       "        if (typeof require !== 'undefined') {\n",
       "        require.undef(\"plotly\");\n",
       "        requirejs.config({\n",
       "            paths: {\n",
       "                'plotly': ['https://cdn.plot.ly/plotly-latest.min']\n",
       "            }\n",
       "        });\n",
       "        require(['plotly'], function(Plotly) {\n",
       "            window._Plotly = Plotly;\n",
       "        });\n",
       "        }\n",
       "        </script>\n",
       "        "
      ]
     },
     "metadata": {},
     "output_type": "display_data"
    }
   ],
   "source": [
    "init_notebook_mode(connected=True)"
   ]
  },
  {
   "cell_type": "code",
   "execution_count": null,
   "metadata": {},
   "outputs": [],
   "source": []
  },
  {
   "cell_type": "code",
   "execution_count": 3,
   "metadata": {
    "ExecuteTime": {
     "end_time": "2020-03-27T23:17:16.815887Z",
     "start_time": "2020-03-27T23:17:16.754167Z"
    },
    "scrolled": true
   },
   "outputs": [
    {
     "data": {
      "text/html": [
       "<div>\n",
       "<style scoped>\n",
       "    .dataframe tbody tr th:only-of-type {\n",
       "        vertical-align: middle;\n",
       "    }\n",
       "\n",
       "    .dataframe tbody tr th {\n",
       "        vertical-align: top;\n",
       "    }\n",
       "\n",
       "    .dataframe thead th {\n",
       "        text-align: right;\n",
       "    }\n",
       "</style>\n",
       "<table border=\"1\" class=\"dataframe\">\n",
       "  <thead>\n",
       "    <tr style=\"text-align: right;\">\n",
       "      <th></th>\n",
       "      <th>Unnamed: 0</th>\n",
       "      <th>height_in</th>\n",
       "      <th>weight_lbs</th>\n",
       "      <th>Age</th>\n",
       "      <th>season_num</th>\n",
       "      <th>G</th>\n",
       "      <th>MP</th>\n",
       "      <th>PER</th>\n",
       "      <th>WS</th>\n",
       "      <th>WS/48</th>\n",
       "      <th>...</th>\n",
       "      <th>VORP</th>\n",
       "      <th>Pos_C</th>\n",
       "      <th>Pos_PF</th>\n",
       "      <th>Pos_PG</th>\n",
       "      <th>Pos_SF</th>\n",
       "      <th>Pos_SG</th>\n",
       "      <th>season_categorical</th>\n",
       "      <th>salary</th>\n",
       "      <th>season_start</th>\n",
       "      <th>player_name</th>\n",
       "    </tr>\n",
       "  </thead>\n",
       "  <tbody>\n",
       "    <tr>\n",
       "      <th>0</th>\n",
       "      <td>0</td>\n",
       "      <td>78.000000</td>\n",
       "      <td>200.000000</td>\n",
       "      <td>23.000000</td>\n",
       "      <td>1.000000</td>\n",
       "      <td>68.000000</td>\n",
       "      <td>15.500000</td>\n",
       "      <td>10.100000</td>\n",
       "      <td>2.100000</td>\n",
       "      <td>0.096000</td>\n",
       "      <td>...</td>\n",
       "      <td>-0.100000</td>\n",
       "      <td>0.000000</td>\n",
       "      <td>-2.775558e-17</td>\n",
       "      <td>0.000000</td>\n",
       "      <td>0.000000</td>\n",
       "      <td>1.00000</td>\n",
       "      <td>32.000000</td>\n",
       "      <td>5.994764e+06</td>\n",
       "      <td>2016</td>\n",
       "      <td>Álex Abrines</td>\n",
       "    </tr>\n",
       "    <tr>\n",
       "      <th>1</th>\n",
       "      <td>1</td>\n",
       "      <td>78.000000</td>\n",
       "      <td>200.000000</td>\n",
       "      <td>24.000000</td>\n",
       "      <td>2.000000</td>\n",
       "      <td>75.000000</td>\n",
       "      <td>15.100000</td>\n",
       "      <td>9.000000</td>\n",
       "      <td>2.200000</td>\n",
       "      <td>0.094000</td>\n",
       "      <td>...</td>\n",
       "      <td>-0.100000</td>\n",
       "      <td>0.000000</td>\n",
       "      <td>-2.775558e-17</td>\n",
       "      <td>0.000000</td>\n",
       "      <td>0.000000</td>\n",
       "      <td>1.00000</td>\n",
       "      <td>33.000000</td>\n",
       "      <td>5.725000e+06</td>\n",
       "      <td>2017</td>\n",
       "      <td>Álex Abrines</td>\n",
       "    </tr>\n",
       "    <tr>\n",
       "      <th>2</th>\n",
       "      <td>2</td>\n",
       "      <td>78.000000</td>\n",
       "      <td>200.000000</td>\n",
       "      <td>25.000000</td>\n",
       "      <td>3.000000</td>\n",
       "      <td>31.000000</td>\n",
       "      <td>19.000000</td>\n",
       "      <td>6.300000</td>\n",
       "      <td>0.600000</td>\n",
       "      <td>0.053000</td>\n",
       "      <td>...</td>\n",
       "      <td>-0.200000</td>\n",
       "      <td>0.000000</td>\n",
       "      <td>-2.775558e-17</td>\n",
       "      <td>0.000000</td>\n",
       "      <td>0.000000</td>\n",
       "      <td>1.00000</td>\n",
       "      <td>34.000000</td>\n",
       "      <td>5.455236e+06</td>\n",
       "      <td>2018</td>\n",
       "      <td>Álex Abrines</td>\n",
       "    </tr>\n",
       "    <tr>\n",
       "      <th>3</th>\n",
       "      <td>3</td>\n",
       "      <td>78.116072</td>\n",
       "      <td>200.476044</td>\n",
       "      <td>26.046765</td>\n",
       "      <td>4.297592</td>\n",
       "      <td>49.894572</td>\n",
       "      <td>17.528521</td>\n",
       "      <td>9.068572</td>\n",
       "      <td>1.097364</td>\n",
       "      <td>0.059656</td>\n",
       "      <td>...</td>\n",
       "      <td>0.012040</td>\n",
       "      <td>0.015134</td>\n",
       "      <td>4.637657e-04</td>\n",
       "      <td>0.048036</td>\n",
       "      <td>0.240926</td>\n",
       "      <td>0.68970</td>\n",
       "      <td>36.048778</td>\n",
       "      <td>4.360653e+06</td>\n",
       "      <td>2019</td>\n",
       "      <td>Álex Abrines</td>\n",
       "    </tr>\n",
       "    <tr>\n",
       "      <th>4</th>\n",
       "      <td>4</td>\n",
       "      <td>78.454765</td>\n",
       "      <td>197.012272</td>\n",
       "      <td>26.104838</td>\n",
       "      <td>5.111217</td>\n",
       "      <td>51.797230</td>\n",
       "      <td>17.928437</td>\n",
       "      <td>9.078428</td>\n",
       "      <td>0.892712</td>\n",
       "      <td>0.051887</td>\n",
       "      <td>...</td>\n",
       "      <td>-0.034448</td>\n",
       "      <td>0.018093</td>\n",
       "      <td>3.667988e-02</td>\n",
       "      <td>0.076530</td>\n",
       "      <td>0.337691</td>\n",
       "      <td>0.53417</td>\n",
       "      <td>39.442324</td>\n",
       "      <td>4.823157e+06</td>\n",
       "      <td>2020</td>\n",
       "      <td>Álex Abrines</td>\n",
       "    </tr>\n",
       "  </tbody>\n",
       "</table>\n",
       "<p>5 rows × 21 columns</p>\n",
       "</div>"
      ],
      "text/plain": [
       "   Unnamed: 0  height_in  weight_lbs        Age  season_num          G  \\\n",
       "0           0  78.000000  200.000000  23.000000    1.000000  68.000000   \n",
       "1           1  78.000000  200.000000  24.000000    2.000000  75.000000   \n",
       "2           2  78.000000  200.000000  25.000000    3.000000  31.000000   \n",
       "3           3  78.116072  200.476044  26.046765    4.297592  49.894572   \n",
       "4           4  78.454765  197.012272  26.104838    5.111217  51.797230   \n",
       "\n",
       "          MP        PER        WS     WS/48  ...      VORP     Pos_C  \\\n",
       "0  15.500000  10.100000  2.100000  0.096000  ... -0.100000  0.000000   \n",
       "1  15.100000   9.000000  2.200000  0.094000  ... -0.100000  0.000000   \n",
       "2  19.000000   6.300000  0.600000  0.053000  ... -0.200000  0.000000   \n",
       "3  17.528521   9.068572  1.097364  0.059656  ...  0.012040  0.015134   \n",
       "4  17.928437   9.078428  0.892712  0.051887  ... -0.034448  0.018093   \n",
       "\n",
       "         Pos_PF    Pos_PG    Pos_SF   Pos_SG  season_categorical  \\\n",
       "0 -2.775558e-17  0.000000  0.000000  1.00000           32.000000   \n",
       "1 -2.775558e-17  0.000000  0.000000  1.00000           33.000000   \n",
       "2 -2.775558e-17  0.000000  0.000000  1.00000           34.000000   \n",
       "3  4.637657e-04  0.048036  0.240926  0.68970           36.048778   \n",
       "4  3.667988e-02  0.076530  0.337691  0.53417           39.442324   \n",
       "\n",
       "         salary  season_start   player_name  \n",
       "0  5.994764e+06          2016  Álex Abrines  \n",
       "1  5.725000e+06          2017  Álex Abrines  \n",
       "2  5.455236e+06          2018  Álex Abrines  \n",
       "3  4.360653e+06          2019  Álex Abrines  \n",
       "4  4.823157e+06          2020  Álex Abrines  \n",
       "\n",
       "[5 rows x 21 columns]"
      ]
     },
     "execution_count": 3,
     "metadata": {},
     "output_type": "execute_result"
    }
   ],
   "source": [
    "visualizations_data=pd.read_csv(\"./data/\"+\"all_predicted.csv\")\n",
    "visualizations_data.head()"
   ]
  },
  {
   "cell_type": "code",
   "execution_count": 4,
   "metadata": {
    "ExecuteTime": {
     "end_time": "2020-03-27T23:17:16.830764Z",
     "start_time": "2020-03-27T23:17:16.822116Z"
    }
   },
   "outputs": [],
   "source": [
    "visualizations_data=visualizations_data.drop([\"Unnamed: 0\"],axis=1)"
   ]
  },
  {
   "cell_type": "code",
   "execution_count": null,
   "metadata": {},
   "outputs": [],
   "source": []
  },
  {
   "cell_type": "code",
   "execution_count": 5,
   "metadata": {
    "ExecuteTime": {
     "end_time": "2020-03-27T23:17:16.849666Z",
     "start_time": "2020-03-27T23:17:16.833470Z"
    }
   },
   "outputs": [],
   "source": [
    "# Dropdown Widget Creation for Player Selection\n",
    "\n",
    "player_names = widgets.Dropdown(\n",
    "    options=list(np.unique(visualizations_data['player_name'])),\n",
    "    value=visualizations_data.player_name.values[0],\n",
    "    description='Player :',\n",
    ")\n"
   ]
  },
  {
   "cell_type": "code",
   "execution_count": null,
   "metadata": {},
   "outputs": [],
   "source": []
  },
  {
   "cell_type": "code",
   "execution_count": 6,
   "metadata": {
    "ExecuteTime": {
     "end_time": "2020-03-27T23:17:16.858877Z",
     "start_time": "2020-03-27T23:17:16.854203Z"
    }
   },
   "outputs": [],
   "source": [
    "def validate():\n",
    "    if player_names.value in np.unique(visualizations_data['player_name']):\n",
    "        return True\n",
    "    else:\n",
    "        return False"
   ]
  },
  {
   "cell_type": "code",
   "execution_count": null,
   "metadata": {},
   "outputs": [],
   "source": []
  },
  {
   "cell_type": "code",
   "execution_count": 7,
   "metadata": {
    "ExecuteTime": {
     "end_time": "2020-03-27T23:17:18.359828Z",
     "start_time": "2020-03-27T23:17:16.864006Z"
    }
   },
   "outputs": [
    {
     "data": {
      "application/vnd.plotly.v1+json": {
       "config": {
        "plotlyServerURL": "https://plot.ly"
       },
       "data": [
        {
         "name": "Salary per year",
         "type": "bar",
         "uid": "42cf7845-d685-4e9c-b444-7913d9bd5dd7",
         "x": [
          2016,
          2017,
          2018,
          2019,
          2020,
          2021,
          2022,
          2023,
          2024,
          2025
         ],
         "xaxis": "x",
         "y": [
          5994764,
          5725000,
          5455236,
          4360652.810945855,
          4823156.504646083,
          5965363.923518648,
          7451013.142093738,
          8789837.39656367,
          10165318.26329267,
          11393565.332180068
         ],
         "yaxis": "y"
        },
        {
         "line": {
          "color": "firebrick",
          "dash": "dot",
          "width": 4
         },
         "marker": {
          "size": 7
         },
         "name": "Dotted Line",
         "type": "scatter",
         "uid": "0c1dd1e0-95e1-4a44-9bca-984cfe1cc74b",
         "x": [
          2016,
          2017,
          2018,
          2019,
          2020,
          2021,
          2022,
          2023,
          2024,
          2025
         ],
         "xaxis": "x",
         "y": [
          5994764,
          5725000,
          5455236,
          4360652.810945855,
          4823156.504646083,
          5965363.923518648,
          7451013.142093738,
          8789837.39656367,
          10165318.26329267,
          11393565.332180068
         ],
         "yaxis": "y"
        },
        {
         "line": {
          "color": "White"
         },
         "mode": "lines",
         "name": "Actual and Predicted Salaries Dividing line",
         "showlegend": false,
         "type": "scatter",
         "uid": "35a55b74-ccae-4d13-bb88-f4c8a30eb0c2",
         "x": [
          2018.5,
          2018.5
         ],
         "xaxis": "x",
         "y": [
          -569678.2666090034,
          11393565.332180068
         ],
         "yaxis": "y"
        },
        {
         "cells": {
          "align": [
           "left",
           "left",
           "left",
           "left",
           "left"
          ],
          "height": 20,
          "values": [
           [
            "Álex Abrines"
           ],
           [
            78
           ],
           [
            200
           ],
           [
            25
           ]
          ]
         },
         "columnwidth": [
          0.5,
          0.3,
          0.3,
          0.2,
          0.2
         ],
         "domain": {
          "x": [
           0,
           0.45
          ],
          "y": [
           0,
           1
          ]
         },
         "header": {
          "align": [
           "left",
           "left",
           "left",
           "left",
           "left"
          ],
          "font": {
           "size": 10
          },
          "values": [
           "Player<br>Name",
           "height<br>(inches)",
           "weight<br>(lbs)",
           "Age"
          ]
         },
         "type": "table",
         "uid": "89614895-c000-425d-bfaf-fad4ba9dc7fe"
        }
       ],
       "layout": {
        "annotations": [
         {
          "showarrow": false,
          "text": "BASKETBALL PLAYER'S DATA",
          "x": 0,
          "xref": "paper",
          "y": 0,
          "yref": "paper"
         },
         {
          "font": {
           "family": "Arial",
           "size": 16
          },
          "showarrow": false,
          "text": "5 year Market Value :  $ 31.39 M",
          "x": 0,
          "xref": "paper",
          "y": 0.7,
          "yref": "paper"
         }
        ],
        "legend": {
         "x": 0.5,
         "y": 1.1
        },
        "margin": {
         "b": 40,
         "l": 30,
         "r": 30,
         "t": 45
        },
        "template": {
         "data": {
          "bar": [
           {
            "error_x": {
             "color": "#f2f5fa"
            },
            "error_y": {
             "color": "#f2f5fa"
            },
            "marker": {
             "line": {
              "color": "rgb(17,17,17)",
              "width": 0.5
             }
            },
            "type": "bar"
           }
          ],
          "barpolar": [
           {
            "marker": {
             "line": {
              "color": "rgb(17,17,17)",
              "width": 0.5
             }
            },
            "type": "barpolar"
           }
          ],
          "carpet": [
           {
            "aaxis": {
             "endlinecolor": "#A2B1C6",
             "gridcolor": "#506784",
             "linecolor": "#506784",
             "minorgridcolor": "#506784",
             "startlinecolor": "#A2B1C6"
            },
            "baxis": {
             "endlinecolor": "#A2B1C6",
             "gridcolor": "#506784",
             "linecolor": "#506784",
             "minorgridcolor": "#506784",
             "startlinecolor": "#A2B1C6"
            },
            "type": "carpet"
           }
          ],
          "choropleth": [
           {
            "colorbar": {
             "outlinewidth": 0,
             "ticks": ""
            },
            "type": "choropleth"
           }
          ],
          "contour": [
           {
            "colorbar": {
             "outlinewidth": 0,
             "ticks": ""
            },
            "colorscale": [
             [
              0,
              "#0d0887"
             ],
             [
              0.1111111111111111,
              "#46039f"
             ],
             [
              0.2222222222222222,
              "#7201a8"
             ],
             [
              0.3333333333333333,
              "#9c179e"
             ],
             [
              0.4444444444444444,
              "#bd3786"
             ],
             [
              0.5555555555555556,
              "#d8576b"
             ],
             [
              0.6666666666666666,
              "#ed7953"
             ],
             [
              0.7777777777777778,
              "#fb9f3a"
             ],
             [
              0.8888888888888888,
              "#fdca26"
             ],
             [
              1,
              "#f0f921"
             ]
            ],
            "type": "contour"
           }
          ],
          "contourcarpet": [
           {
            "colorbar": {
             "outlinewidth": 0,
             "ticks": ""
            },
            "type": "contourcarpet"
           }
          ],
          "heatmap": [
           {
            "colorbar": {
             "outlinewidth": 0,
             "ticks": ""
            },
            "colorscale": [
             [
              0,
              "#0d0887"
             ],
             [
              0.1111111111111111,
              "#46039f"
             ],
             [
              0.2222222222222222,
              "#7201a8"
             ],
             [
              0.3333333333333333,
              "#9c179e"
             ],
             [
              0.4444444444444444,
              "#bd3786"
             ],
             [
              0.5555555555555556,
              "#d8576b"
             ],
             [
              0.6666666666666666,
              "#ed7953"
             ],
             [
              0.7777777777777778,
              "#fb9f3a"
             ],
             [
              0.8888888888888888,
              "#fdca26"
             ],
             [
              1,
              "#f0f921"
             ]
            ],
            "type": "heatmap"
           }
          ],
          "heatmapgl": [
           {
            "colorbar": {
             "outlinewidth": 0,
             "ticks": ""
            },
            "colorscale": [
             [
              0,
              "#0d0887"
             ],
             [
              0.1111111111111111,
              "#46039f"
             ],
             [
              0.2222222222222222,
              "#7201a8"
             ],
             [
              0.3333333333333333,
              "#9c179e"
             ],
             [
              0.4444444444444444,
              "#bd3786"
             ],
             [
              0.5555555555555556,
              "#d8576b"
             ],
             [
              0.6666666666666666,
              "#ed7953"
             ],
             [
              0.7777777777777778,
              "#fb9f3a"
             ],
             [
              0.8888888888888888,
              "#fdca26"
             ],
             [
              1,
              "#f0f921"
             ]
            ],
            "type": "heatmapgl"
           }
          ],
          "histogram": [
           {
            "marker": {
             "colorbar": {
              "outlinewidth": 0,
              "ticks": ""
             }
            },
            "type": "histogram"
           }
          ],
          "histogram2d": [
           {
            "colorbar": {
             "outlinewidth": 0,
             "ticks": ""
            },
            "colorscale": [
             [
              0,
              "#0d0887"
             ],
             [
              0.1111111111111111,
              "#46039f"
             ],
             [
              0.2222222222222222,
              "#7201a8"
             ],
             [
              0.3333333333333333,
              "#9c179e"
             ],
             [
              0.4444444444444444,
              "#bd3786"
             ],
             [
              0.5555555555555556,
              "#d8576b"
             ],
             [
              0.6666666666666666,
              "#ed7953"
             ],
             [
              0.7777777777777778,
              "#fb9f3a"
             ],
             [
              0.8888888888888888,
              "#fdca26"
             ],
             [
              1,
              "#f0f921"
             ]
            ],
            "type": "histogram2d"
           }
          ],
          "histogram2dcontour": [
           {
            "colorbar": {
             "outlinewidth": 0,
             "ticks": ""
            },
            "colorscale": [
             [
              0,
              "#0d0887"
             ],
             [
              0.1111111111111111,
              "#46039f"
             ],
             [
              0.2222222222222222,
              "#7201a8"
             ],
             [
              0.3333333333333333,
              "#9c179e"
             ],
             [
              0.4444444444444444,
              "#bd3786"
             ],
             [
              0.5555555555555556,
              "#d8576b"
             ],
             [
              0.6666666666666666,
              "#ed7953"
             ],
             [
              0.7777777777777778,
              "#fb9f3a"
             ],
             [
              0.8888888888888888,
              "#fdca26"
             ],
             [
              1,
              "#f0f921"
             ]
            ],
            "type": "histogram2dcontour"
           }
          ],
          "mesh3d": [
           {
            "colorbar": {
             "outlinewidth": 0,
             "ticks": ""
            },
            "type": "mesh3d"
           }
          ],
          "parcoords": [
           {
            "line": {
             "colorbar": {
              "outlinewidth": 0,
              "ticks": ""
             }
            },
            "type": "parcoords"
           }
          ],
          "pie": [
           {
            "automargin": true,
            "type": "pie"
           }
          ],
          "scatter": [
           {
            "marker": {
             "line": {
              "color": "#283442"
             }
            },
            "type": "scatter"
           }
          ],
          "scatter3d": [
           {
            "line": {
             "colorbar": {
              "outlinewidth": 0,
              "ticks": ""
             }
            },
            "marker": {
             "colorbar": {
              "outlinewidth": 0,
              "ticks": ""
             }
            },
            "type": "scatter3d"
           }
          ],
          "scattercarpet": [
           {
            "marker": {
             "colorbar": {
              "outlinewidth": 0,
              "ticks": ""
             }
            },
            "type": "scattercarpet"
           }
          ],
          "scattergeo": [
           {
            "marker": {
             "colorbar": {
              "outlinewidth": 0,
              "ticks": ""
             }
            },
            "type": "scattergeo"
           }
          ],
          "scattergl": [
           {
            "marker": {
             "line": {
              "color": "#283442"
             }
            },
            "type": "scattergl"
           }
          ],
          "scattermapbox": [
           {
            "marker": {
             "colorbar": {
              "outlinewidth": 0,
              "ticks": ""
             }
            },
            "type": "scattermapbox"
           }
          ],
          "scatterpolar": [
           {
            "marker": {
             "colorbar": {
              "outlinewidth": 0,
              "ticks": ""
             }
            },
            "type": "scatterpolar"
           }
          ],
          "scatterpolargl": [
           {
            "marker": {
             "colorbar": {
              "outlinewidth": 0,
              "ticks": ""
             }
            },
            "type": "scatterpolargl"
           }
          ],
          "scatterternary": [
           {
            "marker": {
             "colorbar": {
              "outlinewidth": 0,
              "ticks": ""
             }
            },
            "type": "scatterternary"
           }
          ],
          "surface": [
           {
            "colorbar": {
             "outlinewidth": 0,
             "ticks": ""
            },
            "colorscale": [
             [
              0,
              "#0d0887"
             ],
             [
              0.1111111111111111,
              "#46039f"
             ],
             [
              0.2222222222222222,
              "#7201a8"
             ],
             [
              0.3333333333333333,
              "#9c179e"
             ],
             [
              0.4444444444444444,
              "#bd3786"
             ],
             [
              0.5555555555555556,
              "#d8576b"
             ],
             [
              0.6666666666666666,
              "#ed7953"
             ],
             [
              0.7777777777777778,
              "#fb9f3a"
             ],
             [
              0.8888888888888888,
              "#fdca26"
             ],
             [
              1,
              "#f0f921"
             ]
            ],
            "type": "surface"
           }
          ],
          "table": [
           {
            "cells": {
             "fill": {
              "color": "#506784"
             },
             "line": {
              "color": "rgb(17,17,17)"
             }
            },
            "header": {
             "fill": {
              "color": "#2a3f5f"
             },
             "line": {
              "color": "rgb(17,17,17)"
             }
            },
            "type": "table"
           }
          ]
         },
         "layout": {
          "annotationdefaults": {
           "arrowcolor": "#f2f5fa",
           "arrowhead": 0,
           "arrowwidth": 1
          },
          "coloraxis": {
           "colorbar": {
            "outlinewidth": 0,
            "ticks": ""
           }
          },
          "colorscale": {
           "diverging": [
            [
             0,
             "#8e0152"
            ],
            [
             0.1,
             "#c51b7d"
            ],
            [
             0.2,
             "#de77ae"
            ],
            [
             0.3,
             "#f1b6da"
            ],
            [
             0.4,
             "#fde0ef"
            ],
            [
             0.5,
             "#f7f7f7"
            ],
            [
             0.6,
             "#e6f5d0"
            ],
            [
             0.7,
             "#b8e186"
            ],
            [
             0.8,
             "#7fbc41"
            ],
            [
             0.9,
             "#4d9221"
            ],
            [
             1,
             "#276419"
            ]
           ],
           "sequential": [
            [
             0,
             "#0d0887"
            ],
            [
             0.1111111111111111,
             "#46039f"
            ],
            [
             0.2222222222222222,
             "#7201a8"
            ],
            [
             0.3333333333333333,
             "#9c179e"
            ],
            [
             0.4444444444444444,
             "#bd3786"
            ],
            [
             0.5555555555555556,
             "#d8576b"
            ],
            [
             0.6666666666666666,
             "#ed7953"
            ],
            [
             0.7777777777777778,
             "#fb9f3a"
            ],
            [
             0.8888888888888888,
             "#fdca26"
            ],
            [
             1,
             "#f0f921"
            ]
           ],
           "sequentialminus": [
            [
             0,
             "#0d0887"
            ],
            [
             0.1111111111111111,
             "#46039f"
            ],
            [
             0.2222222222222222,
             "#7201a8"
            ],
            [
             0.3333333333333333,
             "#9c179e"
            ],
            [
             0.4444444444444444,
             "#bd3786"
            ],
            [
             0.5555555555555556,
             "#d8576b"
            ],
            [
             0.6666666666666666,
             "#ed7953"
            ],
            [
             0.7777777777777778,
             "#fb9f3a"
            ],
            [
             0.8888888888888888,
             "#fdca26"
            ],
            [
             1,
             "#f0f921"
            ]
           ]
          },
          "colorway": [
           "#636efa",
           "#EF553B",
           "#00cc96",
           "#ab63fa",
           "#FFA15A",
           "#19d3f3",
           "#FF6692",
           "#B6E880",
           "#FF97FF",
           "#FECB52"
          ],
          "font": {
           "color": "#f2f5fa"
          },
          "geo": {
           "bgcolor": "rgb(17,17,17)",
           "lakecolor": "rgb(17,17,17)",
           "landcolor": "rgb(17,17,17)",
           "showlakes": true,
           "showland": true,
           "subunitcolor": "#506784"
          },
          "hoverlabel": {
           "align": "left"
          },
          "hovermode": "closest",
          "mapbox": {
           "style": "dark"
          },
          "paper_bgcolor": "rgb(17,17,17)",
          "plot_bgcolor": "rgb(17,17,17)",
          "polar": {
           "angularaxis": {
            "gridcolor": "#506784",
            "linecolor": "#506784",
            "ticks": ""
           },
           "bgcolor": "rgb(17,17,17)",
           "radialaxis": {
            "gridcolor": "#506784",
            "linecolor": "#506784",
            "ticks": ""
           }
          },
          "scene": {
           "xaxis": {
            "backgroundcolor": "rgb(17,17,17)",
            "gridcolor": "#506784",
            "gridwidth": 2,
            "linecolor": "#506784",
            "showbackground": true,
            "ticks": "",
            "zerolinecolor": "#C8D4E3"
           },
           "yaxis": {
            "backgroundcolor": "rgb(17,17,17)",
            "gridcolor": "#506784",
            "gridwidth": 2,
            "linecolor": "#506784",
            "showbackground": true,
            "ticks": "",
            "zerolinecolor": "#C8D4E3"
           },
           "zaxis": {
            "backgroundcolor": "rgb(17,17,17)",
            "gridcolor": "#506784",
            "gridwidth": 2,
            "linecolor": "#506784",
            "showbackground": true,
            "ticks": "",
            "zerolinecolor": "#C8D4E3"
           }
          },
          "shapedefaults": {
           "line": {
            "color": "#f2f5fa"
           }
          },
          "sliderdefaults": {
           "bgcolor": "#C8D4E3",
           "bordercolor": "rgb(17,17,17)",
           "borderwidth": 1,
           "tickwidth": 0
          },
          "ternary": {
           "aaxis": {
            "gridcolor": "#506784",
            "linecolor": "#506784",
            "ticks": ""
           },
           "baxis": {
            "gridcolor": "#506784",
            "linecolor": "#506784",
            "ticks": ""
           },
           "bgcolor": "rgb(17,17,17)",
           "caxis": {
            "gridcolor": "#506784",
            "linecolor": "#506784",
            "ticks": ""
           }
          },
          "title": {
           "x": 0.05
          },
          "updatemenudefaults": {
           "bgcolor": "#506784",
           "borderwidth": 0
          },
          "xaxis": {
           "automargin": true,
           "gridcolor": "#283442",
           "linecolor": "#506784",
           "ticks": "",
           "title": {
            "standoff": 15
           },
           "zerolinecolor": "#283442",
           "zerolinewidth": 2
          },
          "yaxis": {
           "automargin": true,
           "gridcolor": "#283442",
           "linecolor": "#506784",
           "ticks": "",
           "title": {
            "standoff": 15
           },
           "zerolinecolor": "#283442",
           "zerolinewidth": 2
          }
         }
        },
        "xaxis": {
         "anchor": "y",
         "domain": [
          0.55,
          1
         ],
         "title": {
          "text": "Years"
         }
        },
        "yaxis": {
         "anchor": "x",
         "domain": [
          0,
          1
         ],
         "title": {
          "text": "Salary"
         }
        }
       }
      },
      "text/html": [
       "<div>\n",
       "        \n",
       "        \n",
       "            <div id=\"40e8ef76-b34f-40d1-aa61-93b04bf84873\" class=\"plotly-graph-div\" style=\"height:525px; width:100%;\"></div>\n",
       "            <script type=\"text/javascript\">\n",
       "                require([\"plotly\"], function(Plotly) {\n",
       "                    window.PLOTLYENV=window.PLOTLYENV || {};\n",
       "                    \n",
       "                if (document.getElementById(\"40e8ef76-b34f-40d1-aa61-93b04bf84873\")) {\n",
       "                    Plotly.newPlot(\n",
       "                        '40e8ef76-b34f-40d1-aa61-93b04bf84873',\n",
       "                        [{\"name\": \"Salary per year\", \"type\": \"bar\", \"uid\": \"42cf7845-d685-4e9c-b444-7913d9bd5dd7\", \"x\": [2016, 2017, 2018, 2019, 2020, 2021, 2022, 2023, 2024, 2025], \"xaxis\": \"x\", \"y\": [5994764.0, 5725000.0, 5455236.0, 4360652.810945855, 4823156.504646083, 5965363.923518648, 7451013.142093738, 8789837.39656367, 10165318.26329267, 11393565.332180068], \"yaxis\": \"y\"}, {\"line\": {\"color\": \"firebrick\", \"dash\": \"dot\", \"width\": 4}, \"marker\": {\"size\": 7}, \"name\": \"Dotted Line\", \"type\": \"scatter\", \"uid\": \"0c1dd1e0-95e1-4a44-9bca-984cfe1cc74b\", \"x\": [2016, 2017, 2018, 2019, 2020, 2021, 2022, 2023, 2024, 2025], \"xaxis\": \"x\", \"y\": [5994764.0, 5725000.0, 5455236.0, 4360652.810945855, 4823156.504646083, 5965363.923518648, 7451013.142093738, 8789837.39656367, 10165318.26329267, 11393565.332180068], \"yaxis\": \"y\"}, {\"line\": {\"color\": \"White\"}, \"mode\": \"lines\", \"name\": \"Actual and Predicted Salaries Dividing line\", \"showlegend\": false, \"type\": \"scatter\", \"uid\": \"35a55b74-ccae-4d13-bb88-f4c8a30eb0c2\", \"x\": [2018.5, 2018.5], \"xaxis\": \"x\", \"y\": [-569678.2666090034, 11393565.332180068], \"yaxis\": \"y\"}, {\"cells\": {\"align\": [\"left\", \"left\", \"left\", \"left\", \"left\"], \"height\": 20, \"values\": [[\"\\u00c1lex Abrines\"], [78.0], [200.0], [25.0]]}, \"columnwidth\": [0.5, 0.3, 0.3, 0.2, 0.2], \"domain\": {\"x\": [0.0, 0.45], \"y\": [0.0, 1.0]}, \"header\": {\"align\": [\"left\", \"left\", \"left\", \"left\", \"left\"], \"font\": {\"size\": 10}, \"values\": [\"Player<br>Name\", \"height<br>(inches)\", \"weight<br>(lbs)\", \"Age\"]}, \"type\": \"table\", \"uid\": \"89614895-c000-425d-bfaf-fad4ba9dc7fe\"}],\n",
       "                        {\"annotations\": [{\"showarrow\": false, \"text\": \"BASKETBALL PLAYER'S DATA\", \"x\": 0, \"xref\": \"paper\", \"y\": 0, \"yref\": \"paper\"}, {\"font\": {\"family\": \"Arial\", \"size\": 16}, \"showarrow\": false, \"text\": \"5 year Market Value :  $ 31.39 M\", \"x\": 0, \"xref\": \"paper\", \"y\": 0.7, \"yref\": \"paper\"}], \"legend\": {\"x\": 0.5, \"y\": 1.1}, \"margin\": {\"b\": 40, \"l\": 30, \"r\": 30, \"t\": 45}, \"template\": {\"data\": {\"bar\": [{\"error_x\": {\"color\": \"#f2f5fa\"}, \"error_y\": {\"color\": \"#f2f5fa\"}, \"marker\": {\"line\": {\"color\": \"rgb(17,17,17)\", \"width\": 0.5}}, \"type\": \"bar\"}], \"barpolar\": [{\"marker\": {\"line\": {\"color\": \"rgb(17,17,17)\", \"width\": 0.5}}, \"type\": \"barpolar\"}], \"carpet\": [{\"aaxis\": {\"endlinecolor\": \"#A2B1C6\", \"gridcolor\": \"#506784\", \"linecolor\": \"#506784\", \"minorgridcolor\": \"#506784\", \"startlinecolor\": \"#A2B1C6\"}, \"baxis\": {\"endlinecolor\": \"#A2B1C6\", \"gridcolor\": \"#506784\", \"linecolor\": \"#506784\", \"minorgridcolor\": \"#506784\", \"startlinecolor\": \"#A2B1C6\"}, \"type\": \"carpet\"}], \"choropleth\": [{\"colorbar\": {\"outlinewidth\": 0, \"ticks\": \"\"}, \"type\": \"choropleth\"}], \"contour\": [{\"colorbar\": {\"outlinewidth\": 0, \"ticks\": \"\"}, \"colorscale\": [[0.0, \"#0d0887\"], [0.1111111111111111, \"#46039f\"], [0.2222222222222222, \"#7201a8\"], [0.3333333333333333, \"#9c179e\"], [0.4444444444444444, \"#bd3786\"], [0.5555555555555556, \"#d8576b\"], [0.6666666666666666, \"#ed7953\"], [0.7777777777777778, \"#fb9f3a\"], [0.8888888888888888, \"#fdca26\"], [1.0, \"#f0f921\"]], \"type\": \"contour\"}], \"contourcarpet\": [{\"colorbar\": {\"outlinewidth\": 0, \"ticks\": \"\"}, \"type\": \"contourcarpet\"}], \"heatmap\": [{\"colorbar\": {\"outlinewidth\": 0, \"ticks\": \"\"}, \"colorscale\": [[0.0, \"#0d0887\"], [0.1111111111111111, \"#46039f\"], [0.2222222222222222, \"#7201a8\"], [0.3333333333333333, \"#9c179e\"], [0.4444444444444444, \"#bd3786\"], [0.5555555555555556, \"#d8576b\"], [0.6666666666666666, \"#ed7953\"], [0.7777777777777778, \"#fb9f3a\"], [0.8888888888888888, \"#fdca26\"], [1.0, \"#f0f921\"]], \"type\": \"heatmap\"}], \"heatmapgl\": [{\"colorbar\": {\"outlinewidth\": 0, \"ticks\": \"\"}, \"colorscale\": [[0.0, \"#0d0887\"], [0.1111111111111111, \"#46039f\"], [0.2222222222222222, \"#7201a8\"], [0.3333333333333333, \"#9c179e\"], [0.4444444444444444, \"#bd3786\"], [0.5555555555555556, \"#d8576b\"], [0.6666666666666666, \"#ed7953\"], [0.7777777777777778, \"#fb9f3a\"], [0.8888888888888888, \"#fdca26\"], [1.0, \"#f0f921\"]], \"type\": \"heatmapgl\"}], \"histogram\": [{\"marker\": {\"colorbar\": {\"outlinewidth\": 0, \"ticks\": \"\"}}, \"type\": \"histogram\"}], \"histogram2d\": [{\"colorbar\": {\"outlinewidth\": 0, \"ticks\": \"\"}, \"colorscale\": [[0.0, \"#0d0887\"], [0.1111111111111111, \"#46039f\"], [0.2222222222222222, \"#7201a8\"], [0.3333333333333333, \"#9c179e\"], [0.4444444444444444, \"#bd3786\"], [0.5555555555555556, \"#d8576b\"], [0.6666666666666666, \"#ed7953\"], [0.7777777777777778, \"#fb9f3a\"], [0.8888888888888888, \"#fdca26\"], [1.0, \"#f0f921\"]], \"type\": \"histogram2d\"}], \"histogram2dcontour\": [{\"colorbar\": {\"outlinewidth\": 0, \"ticks\": \"\"}, \"colorscale\": [[0.0, \"#0d0887\"], [0.1111111111111111, \"#46039f\"], [0.2222222222222222, \"#7201a8\"], [0.3333333333333333, \"#9c179e\"], [0.4444444444444444, \"#bd3786\"], [0.5555555555555556, \"#d8576b\"], [0.6666666666666666, \"#ed7953\"], [0.7777777777777778, \"#fb9f3a\"], [0.8888888888888888, \"#fdca26\"], [1.0, \"#f0f921\"]], \"type\": \"histogram2dcontour\"}], \"mesh3d\": [{\"colorbar\": {\"outlinewidth\": 0, \"ticks\": \"\"}, \"type\": \"mesh3d\"}], \"parcoords\": [{\"line\": {\"colorbar\": {\"outlinewidth\": 0, \"ticks\": \"\"}}, \"type\": \"parcoords\"}], \"pie\": [{\"automargin\": true, \"type\": \"pie\"}], \"scatter\": [{\"marker\": {\"line\": {\"color\": \"#283442\"}}, \"type\": \"scatter\"}], \"scatter3d\": [{\"line\": {\"colorbar\": {\"outlinewidth\": 0, \"ticks\": \"\"}}, \"marker\": {\"colorbar\": {\"outlinewidth\": 0, \"ticks\": \"\"}}, \"type\": \"scatter3d\"}], \"scattercarpet\": [{\"marker\": {\"colorbar\": {\"outlinewidth\": 0, \"ticks\": \"\"}}, \"type\": \"scattercarpet\"}], \"scattergeo\": [{\"marker\": {\"colorbar\": {\"outlinewidth\": 0, \"ticks\": \"\"}}, \"type\": \"scattergeo\"}], \"scattergl\": [{\"marker\": {\"line\": {\"color\": \"#283442\"}}, \"type\": \"scattergl\"}], \"scattermapbox\": [{\"marker\": {\"colorbar\": {\"outlinewidth\": 0, \"ticks\": \"\"}}, \"type\": \"scattermapbox\"}], \"scatterpolar\": [{\"marker\": {\"colorbar\": {\"outlinewidth\": 0, \"ticks\": \"\"}}, \"type\": \"scatterpolar\"}], \"scatterpolargl\": [{\"marker\": {\"colorbar\": {\"outlinewidth\": 0, \"ticks\": \"\"}}, \"type\": \"scatterpolargl\"}], \"scatterternary\": [{\"marker\": {\"colorbar\": {\"outlinewidth\": 0, \"ticks\": \"\"}}, \"type\": \"scatterternary\"}], \"surface\": [{\"colorbar\": {\"outlinewidth\": 0, \"ticks\": \"\"}, \"colorscale\": [[0.0, \"#0d0887\"], [0.1111111111111111, \"#46039f\"], [0.2222222222222222, \"#7201a8\"], [0.3333333333333333, \"#9c179e\"], [0.4444444444444444, \"#bd3786\"], [0.5555555555555556, \"#d8576b\"], [0.6666666666666666, \"#ed7953\"], [0.7777777777777778, \"#fb9f3a\"], [0.8888888888888888, \"#fdca26\"], [1.0, \"#f0f921\"]], \"type\": \"surface\"}], \"table\": [{\"cells\": {\"fill\": {\"color\": \"#506784\"}, \"line\": {\"color\": \"rgb(17,17,17)\"}}, \"header\": {\"fill\": {\"color\": \"#2a3f5f\"}, \"line\": {\"color\": \"rgb(17,17,17)\"}}, \"type\": \"table\"}]}, \"layout\": {\"annotationdefaults\": {\"arrowcolor\": \"#f2f5fa\", \"arrowhead\": 0, \"arrowwidth\": 1}, \"coloraxis\": {\"colorbar\": {\"outlinewidth\": 0, \"ticks\": \"\"}}, \"colorscale\": {\"diverging\": [[0, \"#8e0152\"], [0.1, \"#c51b7d\"], [0.2, \"#de77ae\"], [0.3, \"#f1b6da\"], [0.4, \"#fde0ef\"], [0.5, \"#f7f7f7\"], [0.6, \"#e6f5d0\"], [0.7, \"#b8e186\"], [0.8, \"#7fbc41\"], [0.9, \"#4d9221\"], [1, \"#276419\"]], \"sequential\": [[0.0, \"#0d0887\"], [0.1111111111111111, \"#46039f\"], [0.2222222222222222, \"#7201a8\"], [0.3333333333333333, \"#9c179e\"], [0.4444444444444444, \"#bd3786\"], [0.5555555555555556, \"#d8576b\"], [0.6666666666666666, \"#ed7953\"], [0.7777777777777778, \"#fb9f3a\"], [0.8888888888888888, \"#fdca26\"], [1.0, \"#f0f921\"]], \"sequentialminus\": [[0.0, \"#0d0887\"], [0.1111111111111111, \"#46039f\"], [0.2222222222222222, \"#7201a8\"], [0.3333333333333333, \"#9c179e\"], [0.4444444444444444, \"#bd3786\"], [0.5555555555555556, \"#d8576b\"], [0.6666666666666666, \"#ed7953\"], [0.7777777777777778, \"#fb9f3a\"], [0.8888888888888888, \"#fdca26\"], [1.0, \"#f0f921\"]]}, \"colorway\": [\"#636efa\", \"#EF553B\", \"#00cc96\", \"#ab63fa\", \"#FFA15A\", \"#19d3f3\", \"#FF6692\", \"#B6E880\", \"#FF97FF\", \"#FECB52\"], \"font\": {\"color\": \"#f2f5fa\"}, \"geo\": {\"bgcolor\": \"rgb(17,17,17)\", \"lakecolor\": \"rgb(17,17,17)\", \"landcolor\": \"rgb(17,17,17)\", \"showlakes\": true, \"showland\": true, \"subunitcolor\": \"#506784\"}, \"hoverlabel\": {\"align\": \"left\"}, \"hovermode\": \"closest\", \"mapbox\": {\"style\": \"dark\"}, \"paper_bgcolor\": \"rgb(17,17,17)\", \"plot_bgcolor\": \"rgb(17,17,17)\", \"polar\": {\"angularaxis\": {\"gridcolor\": \"#506784\", \"linecolor\": \"#506784\", \"ticks\": \"\"}, \"bgcolor\": \"rgb(17,17,17)\", \"radialaxis\": {\"gridcolor\": \"#506784\", \"linecolor\": \"#506784\", \"ticks\": \"\"}}, \"scene\": {\"xaxis\": {\"backgroundcolor\": \"rgb(17,17,17)\", \"gridcolor\": \"#506784\", \"gridwidth\": 2, \"linecolor\": \"#506784\", \"showbackground\": true, \"ticks\": \"\", \"zerolinecolor\": \"#C8D4E3\"}, \"yaxis\": {\"backgroundcolor\": \"rgb(17,17,17)\", \"gridcolor\": \"#506784\", \"gridwidth\": 2, \"linecolor\": \"#506784\", \"showbackground\": true, \"ticks\": \"\", \"zerolinecolor\": \"#C8D4E3\"}, \"zaxis\": {\"backgroundcolor\": \"rgb(17,17,17)\", \"gridcolor\": \"#506784\", \"gridwidth\": 2, \"linecolor\": \"#506784\", \"showbackground\": true, \"ticks\": \"\", \"zerolinecolor\": \"#C8D4E3\"}}, \"shapedefaults\": {\"line\": {\"color\": \"#f2f5fa\"}}, \"sliderdefaults\": {\"bgcolor\": \"#C8D4E3\", \"bordercolor\": \"rgb(17,17,17)\", \"borderwidth\": 1, \"tickwidth\": 0}, \"ternary\": {\"aaxis\": {\"gridcolor\": \"#506784\", \"linecolor\": \"#506784\", \"ticks\": \"\"}, \"baxis\": {\"gridcolor\": \"#506784\", \"linecolor\": \"#506784\", \"ticks\": \"\"}, \"bgcolor\": \"rgb(17,17,17)\", \"caxis\": {\"gridcolor\": \"#506784\", \"linecolor\": \"#506784\", \"ticks\": \"\"}}, \"title\": {\"x\": 0.05}, \"updatemenudefaults\": {\"bgcolor\": \"#506784\", \"borderwidth\": 0}, \"xaxis\": {\"automargin\": true, \"gridcolor\": \"#283442\", \"linecolor\": \"#506784\", \"ticks\": \"\", \"title\": {\"standoff\": 15}, \"zerolinecolor\": \"#283442\", \"zerolinewidth\": 2}, \"yaxis\": {\"automargin\": true, \"gridcolor\": \"#283442\", \"linecolor\": \"#506784\", \"ticks\": \"\", \"title\": {\"standoff\": 15}, \"zerolinecolor\": \"#283442\", \"zerolinewidth\": 2}}}, \"xaxis\": {\"anchor\": \"y\", \"domain\": [0.55, 1.0], \"title\": {\"text\": \"Years\"}}, \"yaxis\": {\"anchor\": \"x\", \"domain\": [0.0, 1.0], \"title\": {\"text\": \"Salary\"}}},\n",
       "                        {\"responsive\": true}\n",
       "                    ).then(function(){\n",
       "                            \n",
       "var gd = document.getElementById('40e8ef76-b34f-40d1-aa61-93b04bf84873');\n",
       "var x = new MutationObserver(function (mutations, observer) {{\n",
       "        var display = window.getComputedStyle(gd).display;\n",
       "        if (!display || display === 'none') {{\n",
       "            console.log([gd, 'removed!']);\n",
       "            Plotly.purge(gd);\n",
       "            observer.disconnect();\n",
       "        }}\n",
       "}});\n",
       "\n",
       "// Listen for the removal of the full notebook cells\n",
       "var notebookContainer = gd.closest('#notebook-container');\n",
       "if (notebookContainer) {{\n",
       "    x.observe(notebookContainer, {childList: true});\n",
       "}}\n",
       "\n",
       "// Listen for the clearing of the current output cell\n",
       "var outputEl = gd.closest('.output');\n",
       "if (outputEl) {{\n",
       "    x.observe(outputEl, {childList: true});\n",
       "}}\n",
       "\n",
       "                        })\n",
       "                };\n",
       "                });\n",
       "            </script>\n",
       "        </div>"
      ]
     },
     "metadata": {},
     "output_type": "display_data"
    }
   ],
   "source": [
    "## Create Baseline Dashboard for display of Player Salary Predictions\n",
    "# Salary Bar Line Results\n",
    "trace1 = go.Bar(x=visualizations_data.loc[visualizations_data[\"player_name\"]==visualizations_data.player_name.values[0],'season_start'], \n",
    "                y=visualizations_data.loc[visualizations_data[\"player_name\"]==visualizations_data.player_name.values[0],'salary'], \n",
    "                name='Salary per year')\n",
    "\n",
    "# Player Attributes for display\n",
    "selected_cols=[\"player_name\",\"height_in\",\"weight_lbs\",\"Age\"]\n",
    "trace2 = go.Table(\n",
    "        header=dict(\n",
    "            values=[\"Player<br>Name\", \"height<br>(inches)\", \"weight<br>(lbs)\",\"Age\"],\n",
    "            font=dict(size=10),\n",
    "            align=['left'] * 5\n",
    "        ),\n",
    "    columnwidth=[0.5,0.3,0.3,0.2,0.2],\n",
    "        cells=dict(\n",
    "            values=[visualizations_data.loc[ visualizations_data[\"player_name\"]==visualizations_data.player_name.values[0],col][2:3].tolist() for col in selected_cols],\n",
    "            align = ['left'] * 5,\n",
    "            height = 20\n",
    "        \n",
    "        )\n",
    "\n",
    "    )\n",
    "\n",
    "fig = make_subplots(\n",
    "    rows=1, cols=2,\n",
    "    column_widths=[0.5, 0.5],\n",
    "    horizontal_spacing=.1,\n",
    "    specs=[[{\"type\": \"table\"},{\"type\": \"bar\" }]]\n",
    ")\n",
    "\n",
    "\n",
    "# Salary Dotted Line Trace\n",
    "trace1_line=go.Scatter(x=visualizations_data.loc[visualizations_data[\"player_name\"]==visualizations_data.player_name.values[0],'season_start'], \n",
    "                y=visualizations_data.loc[visualizations_data[\"player_name\"]==visualizations_data.player_name.values[0],'salary'], \n",
    "                         name='Dotted Line',\n",
    "            line = dict(color='firebrick', width=4, dash='dot'),\n",
    "            marker = dict(size=7 )\n",
    "                      )\n",
    "\n",
    "trace1_divider = go.Scatter(\n",
    "    x=[.5 + visualizations_data.loc[visualizations_data[\"player_name\"]==visualizations_data.player_name.values[0], \"season_start\"].values[2], .5 + visualizations_data.loc[visualizations_data[\"player_name\"]==visualizations_data.player_name.values[0], \"season_start\"].values[2]] , \n",
    "    y=[-0.05*visualizations_data.loc[visualizations_data[\"player_name\"]==visualizations_data.player_name.values[0],'salary'].max() ,  visualizations_data.loc[visualizations_data[\"player_name\"]==visualizations_data.player_name.values[0],'salary'].max()  ],\n",
    "    line_color='White',\n",
    "    mode= \"lines\", \n",
    "    name='Actual and Predicted Salaries Dividing line',\n",
    "    showlegend=False\n",
    ")\n",
    "\n",
    "fig.add_trace(trace1, row=1, col=2)\n",
    "fig.add_trace(trace1_line, row=1, col=2)\n",
    "fig.add_trace(trace1_divider, row=1, col=2)\n",
    "\n",
    "\n",
    "fig.add_trace(trace2,  row=1, col=1)\n",
    "fig.layout.legend =dict(x=.5, y=1.1)\n",
    "\n",
    "g = go.FigureWidget(data=fig,\n",
    "                    layout=go.Layout(\n",
    "                        title=dict(\n",
    "                            text='BASKETBALL PLAYER SALARIES'\n",
    "                        )                \n",
    "                    )          \n",
    "                   )\n",
    "\n",
    "g.update_layout(\n",
    "    yaxis=dict(title=\"Salary\"),\n",
    "    xaxis=dict(title=\"Years\"),\n",
    "    template=\"plotly_dark\",\n",
    "    margin=dict(r=30, t=45, b=40, l=30),\n",
    "    annotations=[\n",
    "        go.layout.Annotation(\n",
    "            text=\"BASKETBALL PLAYER'S DATA\",\n",
    "            showarrow=False,\n",
    "            xref=\"paper\",\n",
    "            yref=\"paper\",\n",
    "            x=0,\n",
    "            y=0),\n",
    "        \n",
    "        \n",
    "        go.layout.Annotation(\n",
    "            text=\"5 year Market Value :  $ \"+str(round(visualizations_data.loc[visualizations_data[\"player_name\"]==visualizations_data.player_name.values[0], \"salary\"].values[-1-6:-1-1].sum()/ 1000000,2))+\" M\",\n",
    "            showarrow=False,\n",
    "            xref=\"paper\",\n",
    "            yref=\"paper\",\n",
    "            font=dict(family='Arial',size=16),\n",
    "            x=0,\n",
    "            y=.7)\n",
    "    ]\n",
    ")\n",
    "\n",
    "\n",
    "g.show()"
   ]
  },
  {
   "cell_type": "code",
   "execution_count": null,
   "metadata": {},
   "outputs": [],
   "source": []
  },
  {
   "cell_type": "code",
   "execution_count": 8,
   "metadata": {
    "ExecuteTime": {
     "end_time": "2020-03-27T23:17:18.448601Z",
     "start_time": "2020-03-27T23:17:18.363272Z"
    }
   },
   "outputs": [],
   "source": [
    "# Add dynamic response layer to update figure upon player selection\n",
    "def response(change):\n",
    "    if validate():\n",
    "        #print (\"\\n\\nplayer_names.value: \",player_names.value,\"\\n\\n\")\n",
    "        x1 = visualizations_data.loc[visualizations_data[\"player_name\"]==player_names.value,'season_start']\n",
    "        y1 = visualizations_data.loc[visualizations_data[\"player_name\"]==player_names.value,'salary']\n",
    "        with g.batch_update():\n",
    "            g.data[0].x = x1\n",
    "            g.data[0].y = y1\n",
    "            #g.data[0].\n",
    "            \n",
    "            g.data[1].x=x1\n",
    "            g.data[1].y=y1\n",
    "            \n",
    "            g.data[2].x=[.5 + visualizations_data.loc[visualizations_data[\"player_name\"]==player_names.value, \"season_start\"].values[2], .5 + visualizations_data.loc[visualizations_data[\"player_name\"]==player_names.value, \"season_start\"].values[2]]\n",
    "            g.data[2].y=[-0.05* visualizations_data.loc[visualizations_data[\"player_name\"]==player_names.value,'salary'].max(),    visualizations_data.loc[visualizations_data[\"player_name\"]==player_names.value,'salary'].max() ]\n",
    "            \n",
    "            g.data[3].cells = dict( values=[visualizations_data.loc[ visualizations_data[\"player_name\"]==player_names.value,col][0:1].tolist() for col in selected_cols], align = \"center\")\n",
    "            \n",
    "            g.update_layout(\n",
    "    yaxis=dict(title=\"Salary\"),\n",
    "    xaxis=dict(title=\"Years\"),\n",
    "    template=\"plotly_dark\",\n",
    "    margin=dict(r=30, t=45, b=40, l=30),\n",
    "    annotations=[\n",
    "        go.layout.Annotation(\n",
    "            text=\"BASKETBALL PLAYER'S DATA\",\n",
    "            showarrow=False,\n",
    "            xref=\"paper\",\n",
    "            yref=\"paper\",\n",
    "            x=0,\n",
    "            y=0),\n",
    "        \n",
    "        \n",
    "        go.layout.Annotation(\n",
    "            text=\"5 year Market Value :  $ \"+str(round(visualizations_data.loc[visualizations_data[\"player_name\"]==player_names.value, \"salary\"].values[-1-6:-1-1].sum()/ 1000000,2))+\" M\",\n",
    "            showarrow=False,\n",
    "            xref=\"paper\",\n",
    "            yref=\"paper\",\n",
    "            font=dict(family='Arial',size=16),\n",
    "            x=0,\n",
    "            y=.7)\n",
    "    ]\n",
    ")\n",
    "\n",
    "            \n",
    "\n",
    "player_names.observe(response, names=\"value\")"
   ]
  },
  {
   "cell_type": "code",
   "execution_count": 9,
   "metadata": {
    "ExecuteTime": {
     "end_time": "2020-03-27T23:17:18.520748Z",
     "start_time": "2020-03-27T23:17:18.456007Z"
    }
   },
   "outputs": [
    {
     "data": {
      "application/vnd.jupyter.widget-view+json": {
       "model_id": "9db0af1c209b42f38ad4c05d00f50f7c",
       "version_major": 2,
       "version_minor": 0
      },
      "text/plain": [
       "VBox(children=(Dropdown(description='Player :', index=81, options=('Boban Marjanović', 'Bobby Portis', 'Brando…"
      ]
     },
     "metadata": {},
     "output_type": "display_data"
    }
   ],
   "source": [
    "# Generate the hbox for visual and vbox for player name selections\n",
    "container2 = widgets.HBox([player_names])\n",
    "widgets.VBox([player_names, g])"
   ]
  },
  {
   "cell_type": "code",
   "execution_count": null,
   "metadata": {},
   "outputs": [],
   "source": []
  },
  {
   "cell_type": "code",
   "execution_count": null,
   "metadata": {},
   "outputs": [],
   "source": []
  },
  {
   "cell_type": "code",
   "execution_count": null,
   "metadata": {},
   "outputs": [],
   "source": []
  }
 ],
 "metadata": {
  "kernelspec": {
   "display_name": "Python 3",
   "language": "python",
   "name": "python3"
  },
  "language_info": {
   "codemirror_mode": {
    "name": "ipython",
    "version": 3
   },
   "file_extension": ".py",
   "mimetype": "text/x-python",
   "name": "python",
   "nbconvert_exporter": "python",
   "pygments_lexer": "ipython3",
   "version": "3.7.3"
  },
  "toc": {
   "base_numbering": 1,
   "nav_menu": {},
   "number_sections": true,
   "sideBar": true,
   "skip_h1_title": false,
   "title_cell": "Table of Contents",
   "title_sidebar": "Contents",
   "toc_cell": false,
   "toc_position": {},
   "toc_section_display": true,
   "toc_window_display": false
  }
 },
 "nbformat": 4,
 "nbformat_minor": 2
}
